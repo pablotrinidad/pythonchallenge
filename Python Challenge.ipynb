{
 "cells": [
  {
   "cell_type": "markdown",
   "metadata": {},
   "source": [
    " # 0. warming up\n",
    " \n",
    " URL: [*http://www.pythonchallenge.com/pc/def/0.html*](http://www.pythonchallenge.com/pc/def/0.html)\n",
    " \n",
    " Flag: [*http://www.pythonchallenge.com/pc/def/274877906944.html*](http://www.pythonchallenge.com/pc/def/274877906944.html)\n",
    " \n",
    " **Python docs**\n",
    " * [`pow()`](https://docs.python.org/3.7/library/functions.html#pow)"
   ]
  },
  {
   "cell_type": "code",
   "execution_count": 7,
   "metadata": {},
   "outputs": [
    {
     "data": {
      "text/plain": [
       "274877906944"
      ]
     },
     "execution_count": 7,
     "metadata": {},
     "output_type": "execute_result"
    }
   ],
   "source": [
    "pow(2, 38)"
   ]
  },
  {
   "cell_type": "markdown",
   "metadata": {},
   "source": [
    "# 1. What about making trans?\n",
    "\n",
    "URL: [*http://www.pythonchallenge.com/pc/def/map.html*](http://www.pythonchallenge.com/pc/def/map.html)\n",
    "\n",
    "Flag: [*http://www.pythonchallenge.com/pc/def/ocr.html*](http://www.pythonchallenge.com/pc/def/ocr.html)\n",
    "\n",
    "**Python docs**\n",
    "* [`str.maketrans()`](https://docs.python.org/3/library/stdtypes.html#str.maketrans)\n",
    "* [`str.translate()`](https://docs.python.org/3/library/stdtypes.html#str.translate)\n",
    "* [`printf`-style string formating](https://docs.python.org/3/library/stdtypes.html#printf-style-string-formatting)\n",
    "* [Literal string interpolation](https://www.python.org/dev/peps/pep-0498/)\n",
    "* [Lists slices (and other operations)](https://docs.python.org/3/tutorial/datastructures.html#more-on-lists)\n",
    "\n",
    "**Other resources**\n",
    "* [Caesar cipher](https://en.wikipedia.org/wiki/Caesar_cipher)"
   ]
  },
  {
   "cell_type": "code",
   "execution_count": 20,
   "metadata": {},
   "outputs": [
    {
     "name": "stdout",
     "output_type": "stream",
     "text": [
      "Hint: \"i hope you didnt translate it by hand. thats what computers are for. doing it in by hand is inefficient and that's why this text is so long. using string.maketrans() is recommended. now apply on the url.\"\n",
      "\n",
      "Flag: \"ocr\"\n"
     ]
    }
   ],
   "source": [
    "from string import ascii_lowercase as al\n",
    "\n",
    "# Build Caesar table using a shift of 2\n",
    "table = str.maketrans(al, al[2:] + al[:2])\n",
    "\n",
    "hint = \"g fmnc wms bgblr rpylqjyrc gr zw fylb. rfyrq ufyr amknsrcpq ypc dmp. bmgle gr gl zw fylb gq glcddgagclr ylb rfyr'q ufw rfgq rcvr gq qm jmle. sqgle qrpgle.kyicrpylq() gq pcamkkclbcb. lmu ynnjw ml rfc spj.\"\n",
    "print(\"Hint: \\\"%s\\\"\\n\" % hint.translate(table))\n",
    "\n",
    "cypher_flag = 'map'\n",
    "flag = cypher_flag.translate(table)\n",
    "print(f'Flag: \\\"{flag}\\\"')"
   ]
  },
  {
   "cell_type": "markdown",
   "metadata": {},
   "source": [
    "# 2. ocr\n",
    "\n",
    "URL: [*http://www.pythonchallenge.com/pc/def/ocr.html*](http://www.pythonchallenge.com/pc/def/ocr.html)\n",
    "\n",
    "Flag: [*http://www.pythonchallenge.com/pc/def/equality.html*](http://www.pythonchallenge.com/pc/def/equality.html)\n",
    "\n",
    "**Python docs**\n",
    "* [`requests`](https://3.python-requests.org/)\n",
    "* [`re.findall()`](https://docs.python.org/3/library/re.html#re.findall)\n",
    "* [`str.isaplha()`](https://docs.python.org/3/library/stdtypes.html#str.isalpha)\n",
    "* [`str.join()`](https://docs.python.org/3/library/stdtypes.html#str.join)\n",
    "* [List comprehensions](https://docs.python.org/3/tutorial/datastructures.html#list-comprehensions)"
   ]
  },
  {
   "cell_type": "code",
   "execution_count": 30,
   "metadata": {},
   "outputs": [
    {
     "name": "stdout",
     "output_type": "stream",
     "text": [
      "Using regex: ['e', 'q', 'u', 'a', 'l', 'i', 't', 'y']\n",
      "Using isalpha: equality\n"
     ]
    }
   ],
   "source": [
    "import requests\n",
    "import re\n",
    "\n",
    "webpage = requests.get('http://www.pythonchallenge.com/pc/def/ocr.html').text\n",
    "\n",
    "# Filter comments\n",
    "comments = re.findall(r'<!--([^>]*)-->', webpage)\n",
    "cypher_flag = comments[1]  # Get second comment\n",
    "\n",
    "# Guessed a \"rare\" character in a mess was something readable, so anything that is alphabetic\n",
    "regex = re.findall(r'[a-z]', cypher_flag)\n",
    "lc = ''.join([x for x in cypher_flag if x.isalpha()])\n",
    "print('Using regex:', regex)\n",
    "print('Using isalpha:', lc)"
   ]
  },
  {
   "cell_type": "markdown",
   "metadata": {},
   "source": [
    "# 3. re\n",
    "\n",
    "URL: [*http://www.pythonchallenge.com/pc/def/equality.html*](http://www.pythonchallenge.com/pc/def/equality.html)\n",
    "\n",
    "Flag: [*http://www.pythonchallenge.com/pc/def/linkedlist.html*](http://www.pythonchallenge.com/pc/def/linkedlist.html)"
   ]
  },
  {
   "cell_type": "code",
   "execution_count": 34,
   "metadata": {},
   "outputs": [
    {
     "data": {
      "text/plain": [
       "'linkedlist'"
      ]
     },
     "execution_count": 34,
     "metadata": {},
     "output_type": "execute_result"
    }
   ],
   "source": [
    "import requests\n",
    "import re\n",
    "\n",
    "# Load website and comment\n",
    "webpage = requests.get('http://www.pythonchallenge.com/pc/def/equality.html').text\n",
    "cypher_flag = re.findall(r'<!--([^>]*)-->', webpage)[0]\n",
    "\n",
    "# One letter surrounded by EXACTLY three big bodyguards on each of its side = 3 upper, 1 lower, 3 upper (EXACTLY)\n",
    "matches = re.findall(r'[a-z][A-Z]{3}[a-z][A-Z]{3}[a-z]', cypher_flag)\n",
    "\n",
    "''.join([x[4] for x in matches])"
   ]
  }
 ],
 "metadata": {
  "kernelspec": {
   "display_name": "Python 3",
   "language": "python",
   "name": "python3"
  },
  "language_info": {
   "codemirror_mode": {
    "name": "ipython",
    "version": 3
   },
   "file_extension": ".py",
   "mimetype": "text/x-python",
   "name": "python",
   "nbconvert_exporter": "python",
   "pygments_lexer": "ipython3",
   "version": "3.7.1"
  }
 },
 "nbformat": 4,
 "nbformat_minor": 2
}
