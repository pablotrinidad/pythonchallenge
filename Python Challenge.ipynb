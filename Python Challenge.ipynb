{
 "cells": [
  {
   "cell_type": "markdown",
   "metadata": {},
   "source": [
    " # 0. warming up\n",
    " \n",
    " URL: [*http://www.pythonchallenge.com/pc/def/0.html*](http://www.pythonchallenge.com/pc/def/0.html)\n",
    " \n",
    " Flag: [*http://www.pythonchallenge.com/pc/def/274877906944.html*](http://www.pythonchallenge.com/pc/def/274877906944.html)"
   ]
  },
  {
   "cell_type": "code",
   "execution_count": 3,
   "metadata": {},
   "outputs": [
    {
     "data": {
      "text/plain": [
       "274877906944"
      ]
     },
     "execution_count": 3,
     "metadata": {},
     "output_type": "execute_result"
    }
   ],
   "source": [
    "2 ** 38"
   ]
  },
  {
   "cell_type": "markdown",
   "metadata": {},
   "source": [
    "# 1. What about making trans?\n",
    "\n",
    "URL: [*http://www.pythonchallenge.com/pc/def/map.html*](http://www.pythonchallenge.com/pc/def/map.html)\n",
    "\n",
    "Flag: [*http://www.pythonchallenge.com/pc/def/ocr.html*](http://www.pythonchallenge.com/pc/def/ocr.html)"
   ]
  },
  {
   "cell_type": "code",
   "execution_count": 16,
   "metadata": {},
   "outputs": [
    {
     "name": "stdout",
     "output_type": "stream",
     "text": [
      "ocr\n"
     ]
    }
   ],
   "source": [
    "cypher_flag = 'map'\n",
    "distance = ord('m') - ord('k')\n",
    "flag = ''.join([chr((ord(x) + distance)) for x in cypher_flag])\n",
    "print(flag)"
   ]
  },
  {
   "cell_type": "markdown",
   "metadata": {},
   "source": [
    "# 2. ocr\n",
    "\n",
    "URL: [*http://www.pythonchallenge.com/pc/def/ocr.html*](http://www.pythonchallenge.com/pc/def/ocr.html)\n",
    "\n",
    "Flag: [*http://www.pythonchallenge.com/pc/def/equality.html*](http://www.pythonchallenge.com/pc/def/equality.html)"
   ]
  },
  {
   "cell_type": "code",
   "execution_count": 36,
   "metadata": {},
   "outputs": [
    {
     "name": "stdout",
     "output_type": "stream",
     "text": [
      "equality\n"
     ]
    }
   ],
   "source": [
    "import requests\n",
    "cypher_flag = requests.get('http://www.pythonchallenge.com/pc/def/ocr.html').text\n",
    "first_comment, first_comment_end = cypher_flag.index('<!--') + 1, cypher_flag.index('-->') + 1\n",
    "start, end = cypher_flag.index('<!--', first_comment), cypher_flag.find('-->', first_comment_end)\n",
    "cypher_flag = cypher_flag[start: end]\n",
    "flag = ''.join([x for x in cypher_flag if x.isalpha()])\n",
    "print(flag)"
   ]
  },
  {
   "cell_type": "markdown",
   "metadata": {},
   "source": [
    "# 3. re\n",
    "\n",
    "URL: [*http://www.pythonchallenge.com/pc/def/equality.html*](http://www.pythonchallenge.com/pc/def/equality.html)\n",
    "\n",
    "Flag: [**]()"
   ]
  },
  {
   "cell_type": "code",
   "execution_count": 51,
   "metadata": {},
   "outputs": [
    {
     "name": "stdout",
     "output_type": "stream",
     "text": [
      "jfeiauzroivgzbmpszazlutnwsdofbiwqdjbzshfrblqgsbydajygcbjwggtdfjeobcmdlzxajvitecgpkcfwqbvkoietpiijanvqjjgtcpadjkgcluaidgumcdskunujfcjfmbzkzsasdxsqqqlaeisjefjfdaoljaywxjthqjknednxnsahxqedoeqsdcmltcsnwakjxtytaalhgabekfmyimwrkffydghiunlriwgkuzqljjbsxguytfsatejmdwkfbzifdknpcqimvehxujszbuyutsompijjojspbwlroefiwmrsjstdjhfwxhnthsoosmoqtufoxvpvpjkgiaqgfrhufxxdnjiwtfqusbkeakunjgknpibklgjounivhgxsnekxgrrbslpuaouvhzbilbirmqqxtktgcnkdljoasnexwtgvwjegurnksokjtrovpmykzgeolwysfidemflmkwmj\n"
     ]
    }
   ],
   "source": [
    "import requests\n",
    "import re\n",
    "\n",
    "cypher_flag = requests.get('http://www.pythonchallenge.com/pc/def/equality.html').text\n",
    "start, end = cypher_flag.index('<!--') + 4, cypher_flag.index('-->') - 1\n",
    "cypher_flag = cypher_flag[start: end]\n",
    "matches = re.findall(r'[A-Z]{3}[a-z][A-Z]{3}', cypher_flag)\n",
    "flag = ''.join([x[3] for x in matches])\n",
    "print(flag)"
   ]
  }
 ],
 "metadata": {
  "kernelspec": {
   "display_name": "Python 3",
   "language": "python",
   "name": "python3"
  },
  "language_info": {
   "codemirror_mode": {
    "name": "ipython",
    "version": 3
   },
   "file_extension": ".py",
   "mimetype": "text/x-python",
   "name": "python",
   "nbconvert_exporter": "python",
   "pygments_lexer": "ipython3",
   "version": "3.7.1"
  }
 },
 "nbformat": 4,
 "nbformat_minor": 2
}
